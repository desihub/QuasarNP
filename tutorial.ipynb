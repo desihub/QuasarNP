{
 "cells": [
  {
   "cell_type": "code",
   "execution_count": 1,
   "metadata": {},
   "outputs": [
    {
     "name": "stdout",
     "output_type": "stream",
     "text": [
      "Populating the interactive namespace from numpy and matplotlib\n"
     ]
    }
   ],
   "source": [
    "%pylab inline"
   ]
  },
  {
   "cell_type": "markdown",
   "metadata": {},
   "source": [
    "This notebook is simply to represent some of the functions of QuasarNP, a pure numpy (and h5py for loading) implementation of QuasarNet.\n",
    "\n",
    "First let's load some data to test on. These first few cells are ripped straight from the QuasarNet tutorial notebook."
   ]
  },
  {
   "cell_type": "code",
   "execution_count": 2,
   "metadata": {},
   "outputs": [],
   "source": [
    "# QuasarNET imports\n",
    "from quasarnet.models import QuasarNET, custom_loss\n",
    "\n",
    "# Importing utility functions from QuasarNP\n",
    "from quasarnp.io import read_truth, read_data, wave\n",
    "from quasarnp.utils import process_preds, absorber_IGM\n",
    "\n",
    "from tensorflow.keras.models import load_model\n",
    "\n",
    "import fitsio"
   ]
  },
  {
   "cell_type": "code",
   "execution_count": 3,
   "metadata": {},
   "outputs": [],
   "source": [
    "lines = ['LYA','CIV(1548)','CIII(1909)', 'MgII(2796)','Hbeta','Halpha']\n",
    "lines_bal = ['CIV(1548)']"
   ]
  },
  {
   "cell_type": "code",
   "execution_count": 4,
   "metadata": {},
   "outputs": [
    {
     "name": "stdout",
     "output_type": "stream",
     "text": [
      "INFO: reading data from /global/cfs/projectdirs/desi/users/jfarr/ML_TensorFlow_tutorial/data_dr12.fits\n",
      "INFO: removing 82 spectra missing in truth\n",
      "INFO: found (29786,) spectra in file /global/cfs/projectdirs/desi/users/jfarr/ML_TensorFlow_tutorial/data_dr12.fits\n",
      "INFO: removing 40 spectra with zero weights\n",
      "INFO: removing 0 spectra with zero flux\n"
     ]
    }
   ],
   "source": [
    "# set nspec to the number of spectra to load. 30000 should be plenty!\n",
    "nspec = 30000\n",
    "truth_file=(['/global/cfs/projectdirs/desi/users/jfarr/ML_TensorFlow_tutorial/truth_DR12Q.fits'])\n",
    "truth = read_truth(truth_file)\n",
    "tids_full,X_full,Y_full,z_full,bal_full = read_data(['/global/cfs/projectdirs/desi/users/jfarr/ML_TensorFlow_tutorial/data_dr12.fits'], truth, nspec=nspec)\n",
    "\n",
    "# Load the training data.\n",
    "data_file = '/global/cfs/projectdirs/desi/users/jfarr/ML_TensorFlow_tutorial/data_train_0.fits'\n",
    "h = fitsio.FITS(data_file)\n",
    "tids_train = h[1]['TARGETID'][:]\n",
    "w = np.in1d(tids_full, tids_train)\n",
    "X_train = X_full[w]\n",
    "Y_train = Y_full[w]\n",
    "z_train = z_full[w]\n",
    "bal_train = bal_full[w]\n",
    "\n",
    "# To get the validation data, remove the spectra in the training sample from the full sample\n",
    "w = ~np.in1d(tids_full, tids_train)\n",
    "tids_val = tids_full[w]\n",
    "X_val = X_full[w]\n",
    "Y_val = Y_full[w]\n",
    "z_val = z_full[w]\n",
    "bal_val = bal_full[w]"
   ]
  },
  {
   "cell_type": "markdown",
   "metadata": {},
   "source": [
    "Generally speaking we will be using QuasarNet with pretrained weights. In order to load the model weights we simply run Keras' `load_model` function."
   ]
  },
  {
   "cell_type": "code",
   "execution_count": 5,
   "metadata": {},
   "outputs": [],
   "source": [
    "model_tf = load_model(\"weights/qn_train_1.h5\", compile=False)\n",
    "p_tf = model_tf.predict(X_val[:,:,None])"
   ]
  },
  {
   "cell_type": "markdown",
   "metadata": {},
   "source": [
    "QuasarNP is designed to be easily integrable into previous code. For example, loading a model in QuasarNP is the same as when you load QuasarNet, but instead of using the Keras `load_model` you use the QuasarNP implentation. To avoid function clobbering I have renamed it in this import."
   ]
  },
  {
   "cell_type": "code",
   "execution_count": 6,
   "metadata": {},
   "outputs": [
    {
     "name": "stderr",
     "output_type": "stream",
     "text": [
      "/global/u2/d/dylang/QuasarNET/quasarnp/layers.py:9: RuntimeWarning: overflow encountered in exp\n",
      "  sigmoid = lambda x: 1 / (1 + np.exp(-x))\n"
     ]
    }
   ],
   "source": [
    "from quasarnp.io import load_model as load_model_np\n",
    "\n",
    "model_np = load_model_np(\"weights/qn_train_1.h5\")\n",
    "p_np = model_np.predict(X_val[:,:,None])"
   ]
  },
  {
   "cell_type": "markdown",
   "metadata": {},
   "source": [
    "We can verify that the numpy implementation is close to the tensorflow one very easily. Let's simply find the maximum absolute difference between the two implementations for each of the 7 lines. This will give a measure of how close the two are. "
   ]
  },
  {
   "cell_type": "code",
   "execution_count": 7,
   "metadata": {},
   "outputs": [
    {
     "name": "stdout",
     "output_type": "stream",
     "text": [
      "3.3845630720841235e-06\n",
      "4.183399264445775e-06\n",
      "4.161150034098782e-06\n",
      "6.264914925391274e-06\n",
      "3.5833598961976243e-06\n",
      "7.809056028262873e-06\n",
      "5.5167863021177155e-06\n"
     ]
    }
   ],
   "source": [
    "for i, _ in enumerate(p_np):\n",
    "    print(np.max(np.abs(p_np[i] - p_tf[i])))"
   ]
  },
  {
   "cell_type": "code",
   "execution_count": 8,
   "metadata": {},
   "outputs": [
    {
     "data": {
      "text/plain": [
       "7.809056028262873e-06"
      ]
     },
     "execution_count": 8,
     "metadata": {},
     "output_type": "execute_result"
    }
   ],
   "source": [
    "np.max(np.abs(np.asarray(p_np) - np.asarray(p_tf)))"
   ]
  },
  {
   "cell_type": "markdown",
   "metadata": {},
   "source": [
    "1e-5 is pretty close and is largely attributed to floating point math differences between tensorflow and numpy. What really matters is that the actual line identification from each of these two implementations is the same, so let's confirm that.\n",
    "\n",
    "Due to the increased precision of numpy we will have problems identifying the redshift of the line, due largley to an argmax in the process_preds() function. This does not affect the confidence of which box the line appears in, and therefore does not change the identificaion of whether something is a QSO or not. "
   ]
  },
  {
   "cell_type": "code",
   "execution_count": 9,
   "metadata": {},
   "outputs": [
    {
     "name": "stdout",
     "output_type": "stream",
     "text": [
      "INFO: nspec = 2412, nboxes=13\n",
      "INFO: nspec = 2412, nboxes=13\n"
     ]
    }
   ],
   "source": [
    "pred_output_tf = process_preds(p_tf, lines, lines_bal)\n",
    "pred_output_np = process_preds(p_np, lines, lines_bal)"
   ]
  },
  {
   "cell_type": "code",
   "execution_count": 10,
   "metadata": {},
   "outputs": [
    {
     "name": "stdout",
     "output_type": "stream",
     "text": [
      "7.809056028262873e-06\n",
      "5.123412048204455\n",
      "5.083694411488736\n",
      "5.5167863021177155e-06\n",
      "3.9627155439551185\n"
     ]
    }
   ],
   "source": [
    "for i in range(len(pred_output_tf)):\n",
    "    print(np.max(np.abs(pred_output_tf[i] - pred_output_np[i])))"
   ]
  },
  {
   "cell_type": "markdown",
   "metadata": {},
   "source": [
    "In order to confirm that our predictions of QSOs are correct or at least \"correct enough\" we will find the purity and completeness of the two implementations and confirm that they are similar (or even better, identical).\n",
    "\n",
    "We will use the same metric as the paper/tutorial notebook:\n",
    "\n",
    " - Purity (precision) $= \\frac{\\mathrm{number\\ of\\ correctly\\ classified\\ QSOs}}{\\mathrm{number\\ of\\ objects\\ classified\\ as\\ QSOs}}$\n",
    " \n",
    " - Completeness (recall) $= \\frac{\\mathrm{number\\ of\\ correctly\\ classified\\ QSOs}}{\\mathrm{number\\ of\\ true\\ QSOs}}$\n",
    " \n",
    "Here, we count a QSO as being \"correctly classified\" if QuasarNET is both able to identify it as a QSO, and correctly estimate its redshift to within a velocity error of 6,000 km/s."
   ]
  },
  {
   "cell_type": "code",
   "execution_count": 11,
   "metadata": {},
   "outputs": [
    {
     "data": {
      "text/plain": [
       "<matplotlib.legend.Legend at 0x2aab7ffab580>"
      ]
     },
     "execution_count": 11,
     "metadata": {},
     "output_type": "execute_result"
    },
    {
     "data": {
      "image/png": "[encoded data removed]",
      "text/plain": [
       "<Figure size 1080x1152 with 2 Axes>"
      ]
     },
     "metadata": {
      "needs_background": "light"
     },
     "output_type": "display_data"
    }
   ],
   "source": [
    "c_line_tf, _, zbest_tf, *rest = pred_output_tf\n",
    "c_line_np, _, zbest_np, *rest = pred_output_np\n",
    "ndetect = 1\n",
    "\n",
    "fig, ax = plt.subplots(2, 1, figsize=(15, 16))\n",
    "plt.rc('font', size=18)\n",
    "\n",
    "# Set up our arrays.\n",
    "c_thresh = np.arange(0,1,0.01)\n",
    "\n",
    "# Purity\n",
    "pur_np = np.zeros_like(c_thresh)\n",
    "pur_tf = np.zeros_like(c_thresh)\n",
    "\n",
    "# Completeness\n",
    "com_np = np.zeros_like(c_thresh)\n",
    "com_tf = np.zeros_like(c_thresh)\n",
    "\n",
    "# Error for zmax computations\n",
    "dv_max = 6000./300000.\n",
    "\n",
    "# Determine which objects are true QSOs, and which are \"bad\"\n",
    "isqso_truth = (Y_val.argmax(axis=1) == 2) | (Y_val.argmax(axis=1) == 3)\n",
    "is_bad = Y_val.argmax(axis=1) == 4\n",
    "\n",
    "# Determine which spectra QN accurately estimated the redshift for\n",
    "zgood_tf = (z_val > 0) & (abs(zbest_tf - z_val) < dv_max * (1 + z_val))\n",
    "zgood_np = (z_val > 0) & (abs(zbest_np - z_val) < dv_max * (1 + z_val))\n",
    "\n",
    "\n",
    "# For each value of confidence threshold, compute purity and completeness.\n",
    "for i,cth in enumerate(c_thresh):\n",
    "    # Tensorflow\n",
    "    isqso_qn = (c_line_tf > cth).sum(axis=0) >= ndetect\n",
    "    ntrue_positives = (isqso_qn & zgood_tf & ~is_bad).sum()\n",
    "    pur_tf[i] = ntrue_positives/(isqso_qn & (~is_bad)).sum()\n",
    "    com_tf[i] = (isqso_qn & zgood_tf & isqso_truth).sum()/isqso_truth.sum()\n",
    "    \n",
    "    # Numpy\n",
    "    isqso_qn = (c_line_np > cth).sum(axis=0) >= ndetect\n",
    "    ntrue_positives = (isqso_qn & zgood_np & ~is_bad).sum()\n",
    "    pur_np[i] = ntrue_positives/(isqso_qn & (~is_bad)).sum()\n",
    "    com_np[i] = (isqso_qn & zgood_np & isqso_truth).sum()/isqso_truth.sum()\n",
    "    \n",
    "# Plot them!\n",
    "ax[0].plot(c_thresh, pur_tf, label=\"Purity (TF)\")\n",
    "ax[0].plot(c_thresh, pur_np, \".\", label=\"Purity (NP)\")\n",
    "ax[0].set_xlim(0.0,1.0)\n",
    "ax[0].set_ylim(0.9,1.0)\n",
    "ax[0].set_xlabel(r'$c_{th}$')\n",
    "ax[0].grid()\n",
    "ax[0].legend(loc=4)\n",
    "\n",
    "ax[1].plot(c_thresh, com_tf, label=\"Completeness (TF)\")\n",
    "ax[1].plot(c_thresh, com_np, \".\", label=\"Completeness (NP)\")\n",
    "ax[1].set_xlim(0.0,1.0)\n",
    "ax[1].set_ylim(0.9,1.0)\n",
    "ax[1].set_xlabel(r'$c_{th}$')\n",
    "ax[1].grid()\n",
    "ax[1].legend(loc=4)"
   ]
  },
  {
   "cell_type": "markdown",
   "metadata": {},
   "source": [
    "Neat!"
   ]
  },
  {
   "cell_type": "code",
   "execution_count": null,
   "metadata": {},
   "outputs": [],
   "source": []
  }
 ],
 "metadata": {
  "kernelspec": {
   "display_name": "qnet",
   "language": "python",
   "name": "qnet"
  },
  "language_info": {
   "codemirror_mode": {
    "name": "ipython",
    "version": 3
   },
   "file_extension": ".py",
   "mimetype": "text/x-python",
   "name": "python",
   "nbconvert_exporter": "python",
   "pygments_lexer": "ipython3",
   "version": "3.8.8"
  }
 },
 "nbformat": 4,
 "nbformat_minor": 4
}
